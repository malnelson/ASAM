{
 "cells": [
  {
   "cell_type": "code",
   "execution_count": null,
   "id": "72215c51",
   "metadata": {},
   "outputs": [],
   "source": [
    "import openpyxl\n",
    "\n",
    "# Open the Excel file\n",
    "wb = openpyxl.load_workbook('ASAM_21-22_Tracker_2_1.xlsx')\n",
    "\n",
    "# Get the active sheet\n",
    "sheet = wb.active\n",
    "\n",
    "column_names = [cell.value for cell in sheet[1]]\n",
    "\n",
    "# Get the raw data from the sheet\n",
    "data = []\n",
    "for row in sheet.iter_rows(min_row=2):\n",
    "    row_data = []\n",
    "    for cell in row:\n",
    "        if cell.data_type == 'd':\n",
    "            row_data.append(cell.value.strftime(\"%Y-%m-%d\"))\n",
    "        else:\n",
    "            row_data.append(cell.value)\n",
    "    data.append(row_data)"
   ]
  },
  {
   "cell_type": "code",
   "execution_count": null,
   "id": "e7d1cb49",
   "metadata": {},
   "outputs": [],
   "source": [
    "print('data =', data)"
   ]
  }
 ],
 "metadata": {
  "kernelspec": {
   "display_name": "Python 3 (ipykernel)",
   "language": "python",
   "name": "python3"
  },
  "language_info": {
   "codemirror_mode": {
    "name": "ipython",
    "version": 3
   },
   "file_extension": ".py",
   "mimetype": "text/x-python",
   "name": "python",
   "nbconvert_exporter": "python",
   "pygments_lexer": "ipython3",
   "version": "3.9.7"
  }
 },
 "nbformat": 4,
 "nbformat_minor": 5
}
